{
  "cells": [
    {
      "cell_type": "markdown",
      "metadata": {
        "id": "view-in-github",
        "colab_type": "text"
      },
      "source": [
        "<a href=\"https://colab.research.google.com/github/Sumanth-Katnam/CSE594/blob/main/test2.ipynb\" target=\"_parent\"><img src=\"https://colab.research.google.com/assets/colab-badge.svg\" alt=\"Open In Colab\"/></a>"
      ]
    },
    {
      "cell_type": "markdown",
      "metadata": {
        "id": "QeOwh6G4ZmgB"
      },
      "source": [
        "### Load data from CSV\n"
      ]
    },
    {
      "cell_type": "code",
      "execution_count": null,
      "metadata": {
        "id": "GgNWQry8zbmn"
      },
      "outputs": [],
      "source": [
        "import pandas as pd\n",
        "from avro.datafile import DataFileReader\n",
        "from avro.io import DatumReader\n",
        "\n",
        "filename_txt = 'D:/Work/PSU/Summer 2022/CSE 594/Github/BCPG-Alpha/nn_preprocess/trial.avro'\n",
        "avro_records = []\n",
        "with open(filename_txt, 'rb') as f:\n",
        "    reader = DataFileReader(f, DatumReader())\n",
        "    avro_records = [rec for rec in reader]\n",
        "    reader.close()\n",
        "\n",
        "df = pd.DataFrame(avro_records)"
      ]
    },
    {
      "cell_type": "code",
      "execution_count": null,
      "metadata": {
        "id": "Fin0tJeXZHxu",
        "outputId": "8cf3032f-9424-4a73-b8ef-8129e2a25d46"
      },
      "outputs": [
        {
          "name": "stdout",
          "output_type": "stream",
          "text": [
            "Total:  (70, 2)\n"
          ]
        }
      ],
      "source": [
        "import pandas as pd\n",
        "\n",
        "# dataset = pd.read_csv('trial.csv') #55765 excel #46711 ++\n",
        "dataset = pd.read_csv('sat_temp.csv') \n",
        "dataset['cnf'] = dataset['cnf'].astype('string')\n",
        "dataset['label'] = dataset['label'].astype('int')\n",
        "print('Total: ', dataset.shape)"
      ]
    },
    {
      "cell_type": "code",
      "execution_count": null,
      "metadata": {
        "id": "URp0B5-9zbmp",
        "outputId": "3b0e6787-4f4f-492c-e8d7-0c2aab3f4d80"
      },
      "outputs": [
        {
          "data": {
            "text/html": [
              "<div>\n",
              "<style scoped>\n",
              "    .dataframe tbody tr th:only-of-type {\n",
              "        vertical-align: middle;\n",
              "    }\n",
              "\n",
              "    .dataframe tbody tr th {\n",
              "        vertical-align: top;\n",
              "    }\n",
              "\n",
              "    .dataframe thead th {\n",
              "        text-align: right;\n",
              "    }\n",
              "</style>\n",
              "<table border=\"1\" class=\"dataframe\">\n",
              "  <thead>\n",
              "    <tr style=\"text-align: right;\">\n",
              "      <th></th>\n",
              "      <th>cnf</th>\n",
              "      <th>label</th>\n",
              "    </tr>\n",
              "  </thead>\n",
              "  <tbody>\n",
              "    <tr>\n",
              "      <th>0</th>\n",
              "      <td>( -142 V -1483 ) ^ ( 144 V -1483 ) ^ ( -145 V ...</td>\n",
              "      <td>1</td>\n",
              "    </tr>\n",
              "    <tr>\n",
              "      <th>1</th>\n",
              "      <td>( -1482 V 373 V 375 V 377 V -1484 V 417 V 419 ...</td>\n",
              "      <td>1</td>\n",
              "    </tr>\n",
              "    <tr>\n",
              "      <th>2</th>\n",
              "      <td>( -1488 V 1489 ) ^ ( 377 V 1488 V -1489 ) ^ ( ...</td>\n",
              "      <td>1</td>\n",
              "    </tr>\n",
              "    <tr>\n",
              "      <th>3</th>\n",
              "      <td>( -1489 V -1491 V 417 V 419 V 421 V 1492 ) ^ (...</td>\n",
              "      <td>1</td>\n",
              "    </tr>\n",
              "    <tr>\n",
              "      <th>4</th>\n",
              "      <td>( -174 V -1494 ) ^ ( -3 V -16 V -17 V -59 V 78...</td>\n",
              "      <td>1</td>\n",
              "    </tr>\n",
              "  </tbody>\n",
              "</table>\n",
              "</div>"
            ],
            "text/plain": [
              "                                                 cnf  label\n",
              "0  ( -142 V -1483 ) ^ ( 144 V -1483 ) ^ ( -145 V ...      1\n",
              "1  ( -1482 V 373 V 375 V 377 V -1484 V 417 V 419 ...      1\n",
              "2  ( -1488 V 1489 ) ^ ( 377 V 1488 V -1489 ) ^ ( ...      1\n",
              "3  ( -1489 V -1491 V 417 V 419 V 421 V 1492 ) ^ (...      1\n",
              "4  ( -174 V -1494 ) ^ ( -3 V -16 V -17 V -59 V 78...      1"
            ]
          },
          "execution_count": 46,
          "metadata": {},
          "output_type": "execute_result"
        }
      ],
      "source": [
        "dataset.head()"
      ]
    },
    {
      "cell_type": "code",
      "execution_count": null,
      "metadata": {
        "id": "wLoqS7Blzbmq",
        "outputId": "b4c7e0f5-495b-4b96-8a9f-09c1a4d96c8a"
      },
      "outputs": [
        {
          "name": "stdout",
          "output_type": "stream",
          "text": [
            "Rows in test: 9 \n",
            "Rows in train: 61 \n"
          ]
        }
      ],
      "source": [
        "#TODO: Split 80-20\n",
        "train_df, test_df = dataset.iloc[0:dataset.shape[0]-9], dataset[dataset.shape[0]-9:]\n",
        "test_df.reset_index(drop=True, inplace=True)\n",
        "\n",
        "print(\"Rows in test: %s \" % len(test_df))\n",
        "print(\"Rows in train: %s \" % len(train_df))"
      ]
    },
    {
      "cell_type": "code",
      "execution_count": null,
      "metadata": {
        "id": "SiavXU9T1w6b",
        "outputId": "e1fd41e3-ccf1-49db-9ebc-91cd7e1f5250"
      },
      "outputs": [
        {
          "data": {
            "text/html": [
              "<div>\n",
              "<style scoped>\n",
              "    .dataframe tbody tr th:only-of-type {\n",
              "        vertical-align: middle;\n",
              "    }\n",
              "\n",
              "    .dataframe tbody tr th {\n",
              "        vertical-align: top;\n",
              "    }\n",
              "\n",
              "    .dataframe thead th {\n",
              "        text-align: right;\n",
              "    }\n",
              "</style>\n",
              "<table border=\"1\" class=\"dataframe\">\n",
              "  <thead>\n",
              "    <tr style=\"text-align: right;\">\n",
              "      <th></th>\n",
              "      <th>cnf</th>\n",
              "      <th>label</th>\n",
              "    </tr>\n",
              "  </thead>\n",
              "  <tbody>\n",
              "    <tr>\n",
              "      <th>0</th>\n",
              "      <td>( -142 V -1483 ) ^ ( 144 V -1483 ) ^ ( -145 V ...</td>\n",
              "      <td>1</td>\n",
              "    </tr>\n",
              "    <tr>\n",
              "      <th>1</th>\n",
              "      <td>( -1482 V 373 V 375 V 377 V -1484 V 417 V 419 ...</td>\n",
              "      <td>1</td>\n",
              "    </tr>\n",
              "    <tr>\n",
              "      <th>2</th>\n",
              "      <td>( -1488 V 1489 ) ^ ( 377 V 1488 V -1489 ) ^ ( ...</td>\n",
              "      <td>1</td>\n",
              "    </tr>\n",
              "    <tr>\n",
              "      <th>3</th>\n",
              "      <td>( -1489 V -1491 V 417 V 419 V 421 V 1492 ) ^ (...</td>\n",
              "      <td>1</td>\n",
              "    </tr>\n",
              "    <tr>\n",
              "      <th>4</th>\n",
              "      <td>( -174 V -1494 ) ^ ( -3 V -16 V -17 V -59 V 78...</td>\n",
              "      <td>1</td>\n",
              "    </tr>\n",
              "  </tbody>\n",
              "</table>\n",
              "</div>"
            ],
            "text/plain": [
              "                                                 cnf  label\n",
              "0  ( -142 V -1483 ) ^ ( 144 V -1483 ) ^ ( -145 V ...      1\n",
              "1  ( -1482 V 373 V 375 V 377 V -1484 V 417 V 419 ...      1\n",
              "2  ( -1488 V 1489 ) ^ ( 377 V 1488 V -1489 ) ^ ( ...      1\n",
              "3  ( -1489 V -1491 V 417 V 419 V 421 V 1492 ) ^ (...      1\n",
              "4  ( -174 V -1494 ) ^ ( -3 V -16 V -17 V -59 V 78...      1"
            ]
          },
          "execution_count": 48,
          "metadata": {},
          "output_type": "execute_result"
        }
      ],
      "source": [
        "train_df.head(5)"
      ]
    },
    {
      "cell_type": "markdown",
      "metadata": {
        "id": "OeyIBvzROrik"
      },
      "source": [
        "# Imports"
      ]
    },
    {
      "cell_type": "code",
      "execution_count": null,
      "metadata": {
        "id": "pE3fYoQ_OnGr"
      },
      "outputs": [],
      "source": [
        "import torch\n",
        "import torch.nn as nn\n",
        "import math\n",
        "import random\n",
        "import string\n",
        "import time\n",
        "import matplotlib.pyplot as plt\n",
        "\n",
        "%matplotlib inline"
      ]
    },
    {
      "cell_type": "markdown",
      "metadata": {
        "id": "SE12lLEwO__C"
      },
      "source": [
        "# Preparing Data"
      ]
    },
    {
      "cell_type": "code",
      "execution_count": null,
      "metadata": {
        "id": "TcT3ebt1O_zj"
      },
      "outputs": [],
      "source": [
        "# Generate a list of tuples (title, label) for each data row\n",
        "def read_data(dataframe):\n",
        "    df = dataframe[['cnf', 'label']]\n",
        "    df = df.dropna(subset=['cnf', 'label'])\n",
        "    return [tuple(x) for x in df.to_numpy()]\n",
        "\n",
        "\n",
        "def random_training_pair(pairs):\n",
        "    rand_index = random.randint(0, len(pairs) - 1)\n",
        "    return pairs[rand_index]"
      ]
    },
    {
      "cell_type": "markdown",
      "metadata": {
        "id": "zPau7B-fPBpc"
      },
      "source": [
        "# Establish Tensors"
      ]
    },
    {
      "cell_type": "code",
      "execution_count": null,
      "metadata": {
        "id": "aNERZ6qoVNJN"
      },
      "outputs": [],
      "source": [
        "all_characters = string.printable\n",
        "n_characters = len(all_characters)"
      ]
    },
    {
      "cell_type": "code",
      "execution_count": null,
      "metadata": {
        "id": "4I_k-E_JO9TQ"
      },
      "outputs": [],
      "source": [
        "# Turns line into <line_length x 1 x n_letters> tensor\n",
        "def line_to_tensor(line):\n",
        "    tensor = torch.zeros(len(line), 1, n_characters)\n",
        "    for li, letter in enumerate(line):\n",
        "        tensor[li][0][all_characters.find(letter)] = 1\n",
        "    return tensor\n",
        "\n",
        "# Turns label into <1 x 1> tensor\n",
        "def label_to_tensor(label):\n",
        "    return torch.tensor([label], dtype=torch.long)"
      ]
    },
    {
      "cell_type": "markdown",
      "metadata": {
        "id": "Rlw1SlbwPCXC"
      },
      "source": [
        "# Create Network"
      ]
    },
    {
      "cell_type": "code",
      "execution_count": null,
      "metadata": {
        "id": "uOXyfr5RPClH"
      },
      "outputs": [],
      "source": [
        "class RNNClassify(nn.Module):\n",
        "    def __init__(self, input_size, hidden_size, output_size):\n",
        "        super(RNNClassify, self).__init__()\n",
        "\n",
        "        self.hidden_size = hidden_size\n",
        "        \n",
        "        # Initialize linear and softmax layers\n",
        "        self.i2h = nn.Linear(input_size + hidden_size, hidden_size)\n",
        "        self.i2o = nn.Linear(input_size + hidden_size, output_size)\n",
        "        self.softmax = nn.LogSoftmax(dim=1)\n",
        "\n",
        "    def forward(self, input, hidden=None):\n",
        "        # Concatenate input tensor and hidden state\n",
        "        combined = torch.cat((input, hidden), 1)\n",
        "\n",
        "        hidden = self.i2h(combined)\n",
        "        output = self.i2o(combined)\n",
        "        output = self.softmax(output)\n",
        "        return output, hidden\n",
        "\n",
        "    def init_hidden(self):\n",
        "        return torch.zeros(1, self.hidden_size)\n",
        "\n",
        "\n",
        "# Takes the category with the highest probability as a guess\n",
        "def category_from_output(output):\n",
        "    top_n, top_i = output.topk(1)\n",
        "    return top_i[0].item()"
      ]
    },
    {
      "cell_type": "markdown",
      "metadata": {
        "id": "Q8FEYN0pPC0y"
      },
      "source": [
        "# Train Network"
      ]
    },
    {
      "cell_type": "code",
      "execution_count": null,
      "metadata": {
        "id": "cnpW6cFbPDHh",
        "outputId": "8e873d53-a8b6-4cd1-b15c-94ac9877448d"
      },
      "outputs": [
        {
          "name": "stdout",
          "output_type": "stream",
          "text": [
            "500 10% (1m 18s) 0.6917 ( -215 V -1458 ) ^ ( 353 V -1458 ) ^ ( 82 V -1458 ) ^ ( -102 V -1458 ) ^ ( -111 V -1458 ) ^ ( -120 V -1458 ) ^ ( -129 V -1458 ) ^ ( -4 V -19 V -20 V -59 V 78 V 215 V -353 V -82 V 102 V 111 V 120 V 129 V 1458 ) ^ ( -1380 V -357 V 1459 ) ^ ( 1380 V -357 V -1459 ) ^ ( -1458 V 357 V 1459 ) ^ ( 1458 V 357 V -1459 ) ^ ( 1459 V -1460 ) ^ ( -364 V -1460 ) ^ ( -366 V -1460 ) ^ ( -368 V -1460 ) ^ ( 1384 V -1460 ) ^ ( -408 V -1460 ) ^ ( -410 V -1460 ) ^ ( -412 V -1460 ) ✓\n",
            "1000 20% (2m 36s) 0.7089 ( -637 V -1390 ) ^ ( -657 V -1390 ) ^ ( -676 V -1390 ) ^ ( -704 V -1390 ) ^ ( -724 V -1390 ) ^ ( -743 V -1390 ) ^ ( 216 V 218 V -338 V 274 V 276 V 278 V 327 V 329 V 331 V 637 V 657 V 676 V 704 V 724 V 743 V 1390 ) ^ ( -216 V -1391 ) ^ ( -218 V -1391 ) ^ ( 338 V -1391 ) ^ ( -274 V -1391 ) ^ ( -276 V -1391 ) ^ ( -278 V -1391 ) ^ ( -327 V -1391 ) ^ ( -329 V -1391 ) ^ ( -331 V -1391 ) ^ ( 216 V 218 V -338 V 274 V 276 V 278 V 327 V 329 V 331 V 1391 ) ^ ( 29 V -1392 ) ^ ( 30 V -1392 ) ✗\n",
            "1500 30% (4m 0s) 0.6530 ( -368 V -1449 ) ^ ( 1363 V -1449 ) ^ ( -408 V -1449 ) ^ ( -410 V -1449 ) ^ ( -412 V -1449 ) ^ ( -1448 V 364 V 366 V 368 V -1363 V 408 V 410 V 412 V 1449 ) ^ ( 39 V -1450 ) ^ ( 40 V -1450 ) ^ ( 41 V -1450 ) ^ ( 59 V -1450 ) ^ ( -78 V -1450 ) ^ ( -215 V -1450 ) ^ ( 353 V -1450 ) ^ ( 93 V -1450 ) ^ ( 128 V -1450 ) ^ ( -39 V -40 V -41 V -59 V 78 V 215 V -353 V -93 V -128 V 1450 ) ^ ( -268 V -357 V 1451 ) ^ ( 268 V -357 V -1451 ) ^ ( -1450 V 357 V 1451 ) ^ ( 1450 V 357 V -1451 ) ✓\n",
            "2000 40% (5m 28s) 0.7424 ( -252 V -1443 ) ^ ( -260 V -1443 ) ^ ( -268 V -1443 ) ^ ( -364 V -1443 ) ^ ( -366 V -1443 ) ^ ( -368 V -1443 ) ^ ( -408 V -1443 ) ^ ( -410 V -1443 ) ^ ( -412 V -1443 ) ^ ( -357 V -401 V 229 V 232 V 235 V 1351 V 244 V 252 V 260 V 268 V 364 V 366 V 368 V 408 V 410 V 412 V 1443 ) ^ ( 1 V -1444 ) ^ ( 10 V -1444 ) ^ ( 11 V -1444 ) ^ ( 59 V -1444 ) ^ ( -78 V -1444 ) ^ ( -215 V -1444 ) ^ ( 353 V -1444 ) ^ ( -85 V -1444 ) ^ ( -88 V -1444 ) ^ ( 90 V -1444 ) ^ ( -91 V -1444 ) ^ ( -102 V -1444 ) ✗\n",
            "2500 50% (6m 53s) 0.6270 ( -1389 V -1091 V 1401 ) ^ ( 1389 V -1091 V -1401 ) ^ ( -1400 V 1091 V 1401 ) ^ ( 1400 V 1091 V -1401 ) ^ ( 1388 V -1402 ) ^ ( -274 V -1402 ) ^ ( -276 V -1402 ) ^ ( -278 V -1402 ) ^ ( -637 V -1402 ) ^ ( -657 V -1402 ) ^ ( -676 V -1402 ) ^ ( 1401 V -1402 ) ^ ( -1100 V -1402 ) ^ ( -1388 V 274 V 276 V 278 V 637 V 657 V 676 V -1401 V 1100 V 1402 ) ^ ( -79 V -1403 ) ^ ( 206 V -1403 ) ^ ( -133 V -1403 ) ^ ( -135 V -1403 ) ^ ( -137 V -1403 ) ^ ( -178 V -1403 ) ^ ( -180 V -1403 ) ^ ( -182 V -1403 ) ✓\n",
            "3000 60% (8m 20s) 0.6053 ( -300 V -1499 ) ^ ( -307 V -1499 ) ^ ( -314 V -1499 ) ^ ( -321 V -1499 ) ^ ( -4 V -19 V -20 V -282 V 300 V 307 V 314 V 321 V 1499 ) ^ ( 4 V -1500 ) ^ ( 19 V -1500 ) ^ ( 20 V -1500 ) ^ ( 59 V -1500 ) ^ ( -78 V -1500 ) ^ ( -215 V -1500 ) ^ ( 353 V -1500 ) ^ ( 139 V -1500 ) ^ ( -156 V -1500 ) ^ ( -162 V -1500 ) ^ ( -168 V -1500 ) ^ ( -174 V -1500 ) ^ ( -4 V -19 V -20 V -59 V 78 V 215 V -353 V -139 V 156 V 162 V 168 V 174 V 1500 ) ^ ( -1499 V -357 V 1501 ) ^ ( 1499 V -357 V -1501 ) ✓\n",
            "3500 70% (9m 48s) 0.6120 ( 1533 V -1534 ) ^ ( -1246 V -1534 ) ^ ( -357 V 358 V -401 V 402 V -1473 V -1533 V 1246 V 1534 ) ^ ( -219 V -1535 ) ^ ( -358 V -1535 ) ^ ( 223 V -1535 ) ^ ( 360 V -1535 ) ^ ( 369 V -1535 ) ^ ( 378 V -1535 ) ^ ( -279 V -1535 ) ^ ( 656 V -1535 ) ^ ( -1422 V -1535 ) ^ ( 219 V 358 V -223 V -360 V -369 V -378 V 279 V -656 V 1422 V 1535 ) ^ ( -1534 V -676 V 1536 ) ^ ( 1534 V -676 V -1536 ) ^ ( -1535 V 676 V 1536 ) ^ ( 1535 V 676 V -1536 ) ^ ( 357 V -1537 ) ^ ( -229 V -1537 ) ^ ( -232 V -1537 ) ✓\n",
            "4000 80% (11m 12s) 0.7861 ( 1395 V -1396 ) ^ ( -412 V -1396 ) ^ ( -931 V -1396 ) ^ ( -1395 V 412 V 931 V 1396 ) ^ ( -1391 V -951 V 1397 ) ^ ( 1391 V -951 V -1397 ) ^ ( -1396 V 951 V 1397 ) ^ ( 1396 V 951 V -1397 ) ^ ( 1397 V -1398 ) ^ ( -970 V -1398 ) ^ ( -1070 V -1398 ) ^ ( -1397 V 970 V 1070 V 1398 ) ^ ( -1390 V -1071 V 1399 ) ^ ( 1390 V -1071 V -1399 ) ^ ( -1398 V 1071 V 1399 ) ^ ( 1398 V 1071 V -1399 ) ^ ( 1399 V -1400 ) ^ ( -1072 V -1400 ) ^ ( -1082 V -1400 ) ^ ( -1399 V 1072 V 1082 V 1400 ) ✗\n",
            "4500 90% (12m 37s) 0.6009 ( 59 V -1526 ) ^ ( -78 V -1526 ) ^ ( -215 V -1526 ) ^ ( -353 V -1526 ) ^ ( 396 V -1526 ) ^ ( 150 V -1526 ) ^ ( 167 V -1526 ) ^ ( -174 V -1526 ) ^ ( -34 V -35 V -36 V -59 V 78 V 215 V 353 V -396 V -150 V -167 V 174 V 1526 ) ^ ( -1523 V -401 V 1527 ) ^ ( 1523 V -401 V -1527 ) ^ ( -1526 V 401 V 1527 ) ^ ( 1526 V 401 V -1527 ) ^ ( 1527 V -1528 ) ^ ( -417 V -1528 ) ^ ( -419 V -1528 ) ^ ( -1527 V 417 V 419 V 1528 ) ^ ( -421 V 1529 ) ^ ( -1528 V 1529 ) ^ ( 421 V 1528 V -1529 ) ^ ( 1525 V -1530 ) ✓\n",
            "5000 100% (13m 59s) 0.5805 ( -174 V -1494 ) ^ ( -3 V -16 V -17 V -59 V 78 V 215 V -353 V -141 V 142 V 156 V 162 V 168 V 174 V 1494 ) ^ ( -1493 V -357 V 1495 ) ^ ( 1493 V -357 V -1495 ) ^ ( -1494 V 357 V 1495 ) ^ ( 1494 V 357 V -1495 ) ^ ( 3 V -1496 ) ^ ( 16 V -1496 ) ^ ( 17 V -1496 ) ^ ( 59 V -1496 ) ^ ( -78 V -1496 ) ^ ( -215 V -1496 ) ^ ( -353 V -1496 ) ^ ( 396 V -1496 ) ^ ( 141 V -1496 ) ^ ( -142 V -1496 ) ^ ( -156 V -1496 ) ^ ( -162 V -1496 ) ^ ( -168 V -1496 ) ^ ( -174 V -1496 ) ✓\n"
          ]
        },
        {
          "data": {
            "image/png": "[encoded data removed]",
            "text/plain": [
              "<Figure size 432x288 with 1 Axes>"
            ]
          },
          "metadata": {
            "needs_background": "light"
          },
          "output_type": "display_data"
        }
      ],
      "source": [
        "# Helper function to display how long the training has been running\n",
        "def time_since(since):\n",
        "    now = time.time()\n",
        "    s = now - since\n",
        "    m = math.floor(s / 60)\n",
        "    s -= m * 60\n",
        "    return '%dm %ds' % (m, s)\n",
        "\n",
        "\n",
        "# Creates function that performs a step in the training loop\n",
        "def make_train_step(model, criterion, optimizer):\n",
        "    def train_step(x, y):\n",
        "        # Sets model to TRAIN mode\n",
        "        model.train()\n",
        "        \n",
        "        # Initialize hidden state\n",
        "        hidden = model.init_hidden()\n",
        "\n",
        "        # Makes predictions, running through each letter tensor\n",
        "        for i in range(x.size()[0]):\n",
        "            output, hidden = model(x[i], hidden)\n",
        "\n",
        "        # Computes loss\n",
        "        loss = criterion(output, y)\n",
        "\n",
        "        # Computes gradients\n",
        "        loss.backward()\n",
        "\n",
        "        # Updates parameters\n",
        "        optimizer.step()\n",
        "        optimizer.zero_grad()\n",
        "\n",
        "        return output, loss.item()\n",
        "\n",
        "    return train_step\n",
        "\n",
        "# Run training on a given dataframe\n",
        "def run(train_df, plot=False):\n",
        "    n_iters = 5000\n",
        "    print_every = 500\n",
        "    plot_every = 500\n",
        "    hidden_len = 64\n",
        "\n",
        "    current_loss = 0\n",
        "    all_losses = []\n",
        "\n",
        "    model = RNNClassify(n_characters, hidden_len, 2)\n",
        "    data_tuples = read_data(train_df)\n",
        "\n",
        "    # Create the optimizer and loss function (criterion)\n",
        "    optimizer = torch.optim.SGD(model.parameters(), lr=0.0002)\n",
        "    criterion = nn.NLLLoss()\n",
        "\n",
        "    train_step = make_train_step(model, criterion, optimizer)\n",
        "\n",
        "    start = time.time()\n",
        "    \n",
        "    for i in range(1, n_iters + 1):\n",
        "        # Get data and turn input/target into tensors\n",
        "        title, label = random_training_pair(data_tuples)\n",
        "        input_tensor = line_to_tensor(title)\n",
        "        target_tensor = label_to_tensor(label)\n",
        "\n",
        "        # Run one training step\n",
        "        output, loss = train_step(input_tensor, target_tensor)\n",
        "\n",
        "        # The rest of the code in this function is to show how\n",
        "        # the network is learning\n",
        "        current_loss += loss\n",
        "\n",
        "        if i % print_every == 0:\n",
        "            guess = category_from_output(output)\n",
        "            correct = '✓' if label == guess else '✗'\n",
        "            print('%d %d%% (%s) %.4f %s %s' % (i, i / n_iters * 100, time_since(start), loss, title, correct))\n",
        "        \n",
        "        if i % plot_every == 0:\n",
        "            all_losses.append(current_loss / plot_every)\n",
        "            current_loss = 0\n",
        "\n",
        "    if plot:\n",
        "        plt.figure()\n",
        "        plt.plot(all_losses)\n",
        "\n",
        "    # Save the model\n",
        "    torch.save(model.state_dict(), \"test.model\")\n",
        "\n",
        "run(train_df, plot=True)"
      ]
    },
    {
      "cell_type": "markdown",
      "metadata": {
        "id": "ChSpuUmVPDSN"
      },
      "source": [
        "# Evaluate Model"
      ]
    },
    {
      "cell_type": "code",
      "execution_count": null,
      "metadata": {
        "id": "7a2-Ry-NPD_G",
        "outputId": "a6d3940c-a9e3-454b-bce6-8963f0207838"
      },
      "outputs": [
        {
          "data": {
            "text/plain": [
              "(1.0, 1.0, 1.0)"
            ]
          },
          "execution_count": 29,
          "metadata": {},
          "output_type": "execute_result"
        }
      ],
      "source": [
        "# Predict the label given a title\n",
        "def evaluate(title, model):\n",
        "    model.eval()\n",
        "    hidden = model.init_hidden()\n",
        "    input_tensor = line_to_tensor(title)\n",
        "    for i in range(input_tensor.size()[0]):\n",
        "        output, hidden = model(input_tensor[i], hidden)\n",
        "    return category_from_output(output)\n",
        "\n",
        "# Calculate accuracy, recall, and precision on a given test dataframe\n",
        "def calculate_accuracy(model, test_df):\n",
        "    false_positives = 0\n",
        "    false_negatives = 0\n",
        "    true_positives = 0\n",
        "    true_negatives = 0\n",
        "\n",
        "    tuples = read_data(test_df)\n",
        "    for title, label in tuples:\n",
        "        prediction = evaluate(title, model)\n",
        "        if label == prediction and label:\n",
        "            true_positives += 1\n",
        "        if label == prediction and not label:\n",
        "            true_negatives += 1\n",
        "        if label != prediction and label:\n",
        "            false_negatives += 1\n",
        "        if label != prediction and not label:\n",
        "            false_positives += 1\n",
        "    accuracy = (true_positives + true_negatives) / len(test_df)\n",
        "    recall = true_positives / (true_positives + false_negatives)\n",
        "    precision = true_positives / (true_positives + false_positives)\n",
        "    return accuracy, recall, precision"
      ]
    },
    {
      "cell_type": "code",
      "execution_count": null,
      "metadata": {
        "id": "AGXsoIR9RbIB",
        "outputId": "20a2f61f-7830-449c-ab8f-450786168a17"
      },
      "outputs": [
        {
          "data": {
            "text/plain": [
              "(0.7777777777777778, 1.0, 0.7777777777777778)"
            ]
          },
          "execution_count": 55,
          "metadata": {},
          "output_type": "execute_result"
        }
      ],
      "source": [
        "model = RNNClassify(n_characters, 64, 2)\n",
        "model.load_state_dict(torch.load('test.model'))\n",
        "calculate_accuracy(model, test_df)"
      ]
    }
  ],
  "metadata": {
    "colab": {
      "name": "test2.ipynb",
      "provenance": [],
      "include_colab_link": true
    },
    "kernelspec": {
      "display_name": "Python 3.9.13 64-bit (windows store)",
      "language": "python",
      "name": "python3"
    },
    "language_info": {
      "codemirror_mode": {
        "name": "ipython",
        "version": 3
      },
      "file_extension": ".py",
      "mimetype": "text/x-python",
      "name": "python",
      "nbconvert_exporter": "python",
      "pygments_lexer": "ipython3",
      "version": "3.9.13"
    },
    "vscode": {
      "interpreter": {
        "hash": "edfc97013b55eeed778be48f26166ecbf6dc06f015fa0d1c61302f1d61a18982"
      }
    }
  },
  "nbformat": 4,
  "nbformat_minor": 0
}